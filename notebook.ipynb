{
 "cells": [
  {
   "cell_type": "code",
   "execution_count": 1,
   "metadata": {},
   "outputs": [],
   "source": [
    "from pyspark.context import SparkContext\n",
    "from pyspark.sql import SparkSession\n",
    "from pyspark.ml.evaluation import RegressionEvaluator\n",
    "from pyspark.ml.recommendation import ALS\n",
    "from pyspark.ml.tuning import ParamGridBuilder, CrossValidator\n",
    "from pyspark.ml.evaluation import RegressionEvaluator\n",
    "from pyspark.ml.tuning import CrossValidator, ParamGridBuilder\n",
    "from hit_rate import HitRate\n",
    "import pandas as pd"
   ]
  },
  {
   "cell_type": "code",
   "execution_count": 2,
   "metadata": {},
   "outputs": [
    {
     "name": "stderr",
     "output_type": "stream",
     "text": [
      "Setting default log level to \"WARN\".\n",
      "To adjust logging level use sc.setLogLevel(newLevel). For SparkR, use setLogLevel(newLevel).\n"
     ]
    },
    {
     "name": "stdout",
     "output_type": "stream",
     "text": [
      "22/10/05 12:58:39 WARN NativeCodeLoader: Unable to load native-hadoop library for your platform... using builtin-java classes where applicable\n",
      "<SparkContext master=local[*] appName=MovieRecomender>\n",
      "Spark App Name : MovieRecomender\n"
     ]
    }
   ],
   "source": [
    "spark = SparkSession.builder.master(\"local[*]\") \\\n",
    "                    .config('spark.ui.showConsoleProgress', 'false')\\\n",
    "                    .appName('MovieRecomender') \\\n",
    "                    .getOrCreate()\n",
    "print(spark.sparkContext)\n",
    "print(\"Spark App Name : \"+ spark.sparkContext.appName)"
   ]
  },
  {
   "cell_type": "code",
   "execution_count": 3,
   "metadata": {},
   "outputs": [
    {
     "data": {
      "text/plain": [
       "'/home/mt/MovieRecomender'"
      ]
     },
     "execution_count": 3,
     "metadata": {},
     "output_type": "execute_result"
    }
   ],
   "source": [
    "import os \n",
    "os.chdir ('/home/mt/MovieRecomender')\n",
    "#change to your working directory\n",
    "%pwd"
   ]
  },
  {
   "cell_type": "code",
   "execution_count": 4,
   "metadata": {},
   "outputs": [],
   "source": [
    "#df_m = pd.read_csv(\"data/movies.dat\", engine='python', sep='::', names=[\"MovieID\", \"Title\", \"Genres\"],encoding='ISO-8859-1')\n",
    "#df_m = spark.createDataFrame(df_m)\n",
    "\n",
    "df_r = pd.read_csv(\"data/ratings.dat\", engine='python', sep='::', names=[\"UserID\", \"MovieID\", \"Rating\", \"Timestamp\"])\n",
    "df_r = spark.createDataFrame(df_r)\n",
    "\n",
    "##df_u = spark.createDataFrame(df_u)"
   ]
  },
  {
   "cell_type": "code",
   "execution_count": 5,
   "metadata": {},
   "outputs": [],
   "source": [
    "#df_m.printSchema()\n",
    "#df_m.show(3)"
   ]
  },
  {
   "cell_type": "code",
   "execution_count": 6,
   "metadata": {},
   "outputs": [
    {
     "name": "stdout",
     "output_type": "stream",
     "text": [
      "root\n",
      " |-- UserID: long (nullable = true)\n",
      " |-- MovieID: long (nullable = true)\n",
      " |-- Rating: long (nullable = true)\n",
      " |-- Timestamp: long (nullable = true)\n",
      "\n",
      "22/10/05 12:59:12 WARN TaskSetManager: Stage 0 contains a task of very large size (3861 KiB). The maximum recommended task size is 1000 KiB.\n",
      "+------+-------+------+---------+\n",
      "|UserID|MovieID|Rating|Timestamp|\n",
      "+------+-------+------+---------+\n",
      "|     1|   1193|     5|978300760|\n",
      "|     1|    661|     3|978302109|\n",
      "|     1|    914|     3|978301968|\n",
      "+------+-------+------+---------+\n",
      "only showing top 3 rows\n",
      "\n"
     ]
    }
   ],
   "source": [
    "df_r.printSchema()\n",
    "df_r.show(3)"
   ]
  },
  {
   "cell_type": "code",
   "execution_count": 7,
   "metadata": {},
   "outputs": [],
   "source": [
    "#df_u.printSchema()\n",
    "#df_u.show(3)"
   ]
  },
  {
   "cell_type": "code",
   "execution_count": 8,
   "metadata": {},
   "outputs": [
    {
     "name": "stdout",
     "output_type": "stream",
     "text": [
      "root\n",
      " |-- UserID: long (nullable = true)\n",
      " |-- MovieID: long (nullable = true)\n",
      " |-- Rating: long (nullable = true)\n",
      " |-- Timestamp: long (nullable = true)\n",
      "\n",
      "22/10/05 12:59:13 WARN TaskSetManager: Stage 1 contains a task of very large size (3861 KiB). The maximum recommended task size is 1000 KiB.\n",
      "+------+-------+------+---------+\n",
      "|UserID|MovieID|Rating|Timestamp|\n",
      "+------+-------+------+---------+\n",
      "|     1|   1193|     5|978300760|\n",
      "|     1|    661|     3|978302109|\n",
      "|     1|    914|     3|978301968|\n",
      "+------+-------+------+---------+\n",
      "only showing top 3 rows\n",
      "\n"
     ]
    }
   ],
   "source": [
    "df=df_r#.join(df_r,\"MovieID\",\"inner\")#.join(df_u,\"UserID\",\"inner\")\n",
    "df.printSchema()\n",
    "df.show(3)"
   ]
  },
  {
   "cell_type": "code",
   "execution_count": 9,
   "metadata": {},
   "outputs": [
    {
     "name": "stdout",
     "output_type": "stream",
     "text": [
      "22/10/05 12:59:13 WARN TaskSetManager: Stage 2 contains a task of very large size (3861 KiB). The maximum recommended task size is 1000 KiB.\n",
      "+------+-------+------+\n",
      "|UserID|MovieID|Rating|\n",
      "+------+-------+------+\n",
      "|     1|   1193|     5|\n",
      "|     1|    661|     3|\n",
      "|     1|    914|     3|\n",
      "+------+-------+------+\n",
      "only showing top 3 rows\n",
      "\n"
     ]
    }
   ],
   "source": [
    "df=df.select([\"UserID\",\"MovieID\",\"Rating\"])\n",
    "df.na.drop()\n",
    "df.show(3)"
   ]
  },
  {
   "cell_type": "code",
   "execution_count": 10,
   "metadata": {},
   "outputs": [],
   "source": [
    "(train, test) = df.randomSplit([0.8, 0.2])"
   ]
  },
  {
   "cell_type": "code",
   "execution_count": 11,
   "metadata": {},
   "outputs": [],
   "source": [
    "als = ALS(userCol=\"UserID\", itemCol=\"MovieID\", ratingCol=\"Rating\", nonnegative = True, implicitPrefs = False,coldStartStrategy=\"drop\")"
   ]
  },
  {
   "cell_type": "code",
   "execution_count": 12,
   "metadata": {},
   "outputs": [],
   "source": [
    "grid_search = ParamGridBuilder().addGrid(als.rank,[30,50]).addGrid(als.maxIter,[15,20,50]).addGrid(als.regParam, [0.05] ).build()"
   ]
  },
  {
   "cell_type": "code",
   "execution_count": 13,
   "metadata": {},
   "outputs": [],
   "source": [
    "evaluator = RegressionEvaluator(metricName=\"rmse\", labelCol=\"Rating\", predictionCol=\"prediction\") "
   ]
  },
  {
   "cell_type": "code",
   "execution_count": 14,
   "metadata": {},
   "outputs": [],
   "source": [
    "cv = CrossValidator(estimator=als, estimatorParamMaps=grid_search, evaluator=evaluator, numFolds=5)"
   ]
  },
  {
   "cell_type": "code",
   "execution_count": 15,
   "metadata": {},
   "outputs": [
    {
     "name": "stdout",
     "output_type": "stream",
     "text": [
      "22/10/05 12:59:15 WARN TaskSetManager: Stage 3 contains a task of very large size (3861 KiB). The maximum recommended task size is 1000 KiB.\n",
      "22/10/05 12:59:16 WARN TaskSetManager: Stage 4 contains a task of very large size (3861 KiB). The maximum recommended task size is 1000 KiB.\n",
      "22/10/05 12:59:21 WARN InstanceBuilder$NativeBLAS: Failed to load implementation from:dev.ludovic.netlib.blas.JNIBLAS\n",
      "22/10/05 12:59:21 WARN InstanceBuilder$NativeBLAS: Failed to load implementation from:dev.ludovic.netlib.blas.ForeignLinkerBLAS\n",
      "22/10/05 12:59:37 WARN TaskSetManager: Stage 93 contains a task of very large size (3861 KiB). The maximum recommended task size is 1000 KiB.\n",
      "22/10/05 12:59:40 WARN TaskSetManager: Stage 126 contains a task of very large size (3861 KiB). The maximum recommended task size is 1000 KiB.\n",
      "22/10/05 12:59:40 WARN TaskSetManager: Stage 127 contains a task of very large size (3861 KiB). The maximum recommended task size is 1000 KiB.\n",
      "22/10/05 12:59:55 WARN TaskSetManager: Stage 236 contains a task of very large size (3861 KiB). The maximum recommended task size is 1000 KiB.\n",
      "22/10/05 12:59:56 WARN TaskSetManager: Stage 289 contains a task of very large size (3861 KiB). The maximum recommended task size is 1000 KiB.\n",
      "22/10/05 12:59:56 WARN TaskSetManager: Stage 290 contains a task of very large size (3861 KiB). The maximum recommended task size is 1000 KiB.\n",
      "22/10/05 13:00:30 WARN TaskSetManager: Stage 543 contains a task of very large size (3861 KiB). The maximum recommended task size is 1000 KiB.\n",
      "22/10/05 13:00:31 WARN TaskSetManager: Stage 599 contains a task of very large size (3861 KiB). The maximum recommended task size is 1000 KiB.\n",
      "22/10/05 13:00:31 WARN TaskSetManager: Stage 600 contains a task of very large size (3861 KiB). The maximum recommended task size is 1000 KiB.\n",
      "22/10/05 13:00:50 WARN TaskSetManager: Stage 689 contains a task of very large size (3861 KiB). The maximum recommended task size is 1000 KiB.\n",
      "22/10/05 13:00:52 WARN TaskSetManager: Stage 711 contains a task of very large size (3861 KiB). The maximum recommended task size is 1000 KiB.\n",
      "22/10/05 13:00:52 WARN TaskSetManager: Stage 712 contains a task of very large size (3861 KiB). The maximum recommended task size is 1000 KiB.\n",
      "22/10/05 13:01:15 WARN TaskSetManager: Stage 821 contains a task of very large size (3861 KiB). The maximum recommended task size is 1000 KiB.\n",
      "22/10/05 13:01:17 WARN TaskSetManager: Stage 853 contains a task of very large size (3861 KiB). The maximum recommended task size is 1000 KiB.\n",
      "22/10/05 13:01:17 WARN TaskSetManager: Stage 854 contains a task of very large size (3861 KiB). The maximum recommended task size is 1000 KiB.\n",
      "22/10/05 13:02:09 WARN TaskSetManager: Stage 1107 contains a task of very large size (3861 KiB). The maximum recommended task size is 1000 KiB.\n",
      "22/10/05 13:02:10 WARN TaskSetManager: Stage 1160 contains a task of very large size (3861 KiB). The maximum recommended task size is 1000 KiB.\n",
      "22/10/05 13:02:11 WARN TaskSetManager: Stage 1161 contains a task of very large size (3861 KiB). The maximum recommended task size is 1000 KiB.\n",
      "22/10/05 13:02:20 WARN TaskSetManager: Stage 1250 contains a task of very large size (3861 KiB). The maximum recommended task size is 1000 KiB.\n",
      "22/10/05 13:02:22 WARN TaskSetManager: Stage 1283 contains a task of very large size (3861 KiB). The maximum recommended task size is 1000 KiB.\n",
      "22/10/05 13:02:22 WARN TaskSetManager: Stage 1284 contains a task of very large size (3861 KiB). The maximum recommended task size is 1000 KiB.\n",
      "22/10/05 13:02:33 WARN TaskSetManager: Stage 1393 contains a task of very large size (3861 KiB). The maximum recommended task size is 1000 KiB.\n",
      "22/10/05 13:02:34 WARN TaskSetManager: Stage 1446 contains a task of very large size (3861 KiB). The maximum recommended task size is 1000 KiB.\n",
      "22/10/05 13:02:34 WARN TaskSetManager: Stage 1447 contains a task of very large size (3861 KiB). The maximum recommended task size is 1000 KiB.\n",
      "22/10/05 13:03:02 WARN TaskSetManager: Stage 1700 contains a task of very large size (3861 KiB). The maximum recommended task size is 1000 KiB.\n",
      "22/10/05 13:03:03 WARN TaskSetManager: Stage 1753 contains a task of very large size (3861 KiB). The maximum recommended task size is 1000 KiB.\n",
      "22/10/05 13:03:03 WARN TaskSetManager: Stage 1754 contains a task of very large size (3861 KiB). The maximum recommended task size is 1000 KiB.\n",
      "22/10/05 13:03:20 WARN TaskSetManager: Stage 1843 contains a task of very large size (3861 KiB). The maximum recommended task size is 1000 KiB.\n",
      "22/10/05 13:03:21 WARN TaskSetManager: Stage 1876 contains a task of very large size (3861 KiB). The maximum recommended task size is 1000 KiB.\n",
      "22/10/05 13:03:21 WARN TaskSetManager: Stage 1877 contains a task of very large size (3861 KiB). The maximum recommended task size is 1000 KiB.\n",
      "22/10/05 13:03:42 WARN TaskSetManager: Stage 1986 contains a task of very large size (3861 KiB). The maximum recommended task size is 1000 KiB.\n",
      "22/10/05 13:03:43 WARN TaskSetManager: Stage 2039 contains a task of very large size (3861 KiB). The maximum recommended task size is 1000 KiB.\n",
      "22/10/05 13:03:43 WARN TaskSetManager: Stage 2040 contains a task of very large size (3861 KiB). The maximum recommended task size is 1000 KiB.\n",
      "22/10/05 13:04:34 WARN TaskSetManager: Stage 2293 contains a task of very large size (3861 KiB). The maximum recommended task size is 1000 KiB.\n",
      "22/10/05 13:04:35 WARN TaskSetManager: Stage 2346 contains a task of very large size (3861 KiB). The maximum recommended task size is 1000 KiB.\n",
      "22/10/05 13:04:35 WARN TaskSetManager: Stage 2347 contains a task of very large size (3861 KiB). The maximum recommended task size is 1000 KiB.\n",
      "22/10/05 13:04:46 WARN TaskSetManager: Stage 2436 contains a task of very large size (3861 KiB). The maximum recommended task size is 1000 KiB.\n",
      "22/10/05 13:04:47 WARN TaskSetManager: Stage 2472 contains a task of very large size (3861 KiB). The maximum recommended task size is 1000 KiB.\n",
      "22/10/05 13:04:47 WARN TaskSetManager: Stage 2473 contains a task of very large size (3861 KiB). The maximum recommended task size is 1000 KiB.\n",
      "22/10/05 13:04:59 WARN TaskSetManager: Stage 2582 contains a task of very large size (3861 KiB). The maximum recommended task size is 1000 KiB.\n",
      "22/10/05 13:05:00 WARN TaskSetManager: Stage 2635 contains a task of very large size (3861 KiB). The maximum recommended task size is 1000 KiB.\n",
      "22/10/05 13:05:00 WARN TaskSetManager: Stage 2636 contains a task of very large size (3861 KiB). The maximum recommended task size is 1000 KiB.\n",
      "22/10/05 13:05:27 WARN TaskSetManager: Stage 2889 contains a task of very large size (3861 KiB). The maximum recommended task size is 1000 KiB.\n",
      "22/10/05 13:05:28 WARN TaskSetManager: Stage 2945 contains a task of very large size (3861 KiB). The maximum recommended task size is 1000 KiB.\n",
      "22/10/05 13:05:28 WARN TaskSetManager: Stage 2946 contains a task of very large size (3861 KiB). The maximum recommended task size is 1000 KiB.\n",
      "22/10/05 13:05:45 WARN TaskSetManager: Stage 3035 contains a task of very large size (3861 KiB). The maximum recommended task size is 1000 KiB.\n",
      "22/10/05 13:05:46 WARN TaskSetManager: Stage 3068 contains a task of very large size (3861 KiB). The maximum recommended task size is 1000 KiB.\n",
      "22/10/05 13:05:46 WARN TaskSetManager: Stage 3069 contains a task of very large size (3861 KiB). The maximum recommended task size is 1000 KiB.\n",
      "22/10/05 13:06:07 WARN TaskSetManager: Stage 3178 contains a task of very large size (3861 KiB). The maximum recommended task size is 1000 KiB.\n",
      "22/10/05 13:06:08 WARN TaskSetManager: Stage 3210 contains a task of very large size (3861 KiB). The maximum recommended task size is 1000 KiB.\n",
      "22/10/05 13:06:08 WARN TaskSetManager: Stage 3211 contains a task of very large size (3861 KiB). The maximum recommended task size is 1000 KiB.\n",
      "22/10/05 13:07:00 WARN TaskSetManager: Stage 3464 contains a task of very large size (3861 KiB). The maximum recommended task size is 1000 KiB.\n",
      "22/10/05 13:07:01 WARN TaskSetManager: Stage 3517 contains a task of very large size (3861 KiB). The maximum recommended task size is 1000 KiB.\n",
      "22/10/05 13:07:02 WARN TaskSetManager: Stage 3518 contains a task of very large size (3861 KiB). The maximum recommended task size is 1000 KiB.\n",
      "22/10/05 13:07:11 WARN TaskSetManager: Stage 3607 contains a task of very large size (3861 KiB). The maximum recommended task size is 1000 KiB.\n",
      "22/10/05 13:07:12 WARN TaskSetManager: Stage 3643 contains a task of very large size (3861 KiB). The maximum recommended task size is 1000 KiB.\n",
      "22/10/05 13:07:12 WARN TaskSetManager: Stage 3644 contains a task of very large size (3861 KiB). The maximum recommended task size is 1000 KiB.\n",
      "22/10/05 13:07:23 WARN TaskSetManager: Stage 3753 contains a task of very large size (3861 KiB). The maximum recommended task size is 1000 KiB.\n",
      "22/10/05 13:07:24 WARN TaskSetManager: Stage 3809 contains a task of very large size (3861 KiB). The maximum recommended task size is 1000 KiB.\n",
      "22/10/05 13:07:24 WARN TaskSetManager: Stage 3810 contains a task of very large size (3861 KiB). The maximum recommended task size is 1000 KiB.\n",
      "22/10/05 13:07:54 WARN TaskSetManager: Stage 4063 contains a task of very large size (3861 KiB). The maximum recommended task size is 1000 KiB.\n",
      "22/10/05 13:07:55 WARN TaskSetManager: Stage 4119 contains a task of very large size (3861 KiB). The maximum recommended task size is 1000 KiB.\n",
      "22/10/05 13:07:55 WARN TaskSetManager: Stage 4120 contains a task of very large size (3861 KiB). The maximum recommended task size is 1000 KiB.\n",
      "22/10/05 13:08:11 WARN TaskSetManager: Stage 4209 contains a task of very large size (3861 KiB). The maximum recommended task size is 1000 KiB.\n",
      "22/10/05 13:08:12 WARN TaskSetManager: Stage 4242 contains a task of very large size (3861 KiB). The maximum recommended task size is 1000 KiB.\n",
      "22/10/05 13:08:12 WARN TaskSetManager: Stage 4243 contains a task of very large size (3861 KiB). The maximum recommended task size is 1000 KiB.\n",
      "22/10/05 13:08:34 WARN TaskSetManager: Stage 4352 contains a task of very large size (3861 KiB). The maximum recommended task size is 1000 KiB.\n",
      "22/10/05 13:08:35 WARN TaskSetManager: Stage 4405 contains a task of very large size (3861 KiB). The maximum recommended task size is 1000 KiB.\n",
      "22/10/05 13:08:35 WARN TaskSetManager: Stage 4406 contains a task of very large size (3861 KiB). The maximum recommended task size is 1000 KiB.\n",
      "22/10/05 13:09:26 WARN TaskSetManager: Stage 4659 contains a task of very large size (3861 KiB). The maximum recommended task size is 1000 KiB.\n",
      "22/10/05 13:09:27 WARN TaskSetManager: Stage 4712 contains a task of very large size (3861 KiB). The maximum recommended task size is 1000 KiB.\n",
      "22/10/05 13:09:28 WARN TaskSetManager: Stage 4713 contains a task of very large size (3861 KiB). The maximum recommended task size is 1000 KiB.\n",
      "22/10/05 13:09:37 WARN TaskSetManager: Stage 4802 contains a task of very large size (3861 KiB). The maximum recommended task size is 1000 KiB.\n",
      "22/10/05 13:09:38 WARN TaskSetManager: Stage 4835 contains a task of very large size (3861 KiB). The maximum recommended task size is 1000 KiB.\n",
      "22/10/05 13:09:38 WARN TaskSetManager: Stage 4836 contains a task of very large size (3861 KiB). The maximum recommended task size is 1000 KiB.\n",
      "22/10/05 13:09:49 WARN TaskSetManager: Stage 4945 contains a task of very large size (3861 KiB). The maximum recommended task size is 1000 KiB.\n",
      "22/10/05 13:09:50 WARN TaskSetManager: Stage 5001 contains a task of very large size (3861 KiB). The maximum recommended task size is 1000 KiB.\n",
      "22/10/05 13:09:50 WARN TaskSetManager: Stage 5002 contains a task of very large size (3861 KiB). The maximum recommended task size is 1000 KiB.\n",
      "22/10/05 13:10:20 WARN TaskSetManager: Stage 5255 contains a task of very large size (3861 KiB). The maximum recommended task size is 1000 KiB.\n",
      "22/10/05 13:10:21 WARN TaskSetManager: Stage 5311 contains a task of very large size (3861 KiB). The maximum recommended task size is 1000 KiB.\n",
      "22/10/05 13:10:21 WARN TaskSetManager: Stage 5312 contains a task of very large size (3861 KiB). The maximum recommended task size is 1000 KiB.\n",
      "22/10/05 13:10:39 WARN TaskSetManager: Stage 5401 contains a task of very large size (3861 KiB). The maximum recommended task size is 1000 KiB.\n",
      "22/10/05 13:10:41 WARN TaskSetManager: Stage 5434 contains a task of very large size (3861 KiB). The maximum recommended task size is 1000 KiB.\n",
      "22/10/05 13:10:41 WARN TaskSetManager: Stage 5435 contains a task of very large size (3861 KiB). The maximum recommended task size is 1000 KiB.\n",
      "22/10/05 13:11:04 WARN TaskSetManager: Stage 5544 contains a task of very large size (3861 KiB). The maximum recommended task size is 1000 KiB.\n",
      "22/10/05 13:11:06 WARN TaskSetManager: Stage 5597 contains a task of very large size (3861 KiB). The maximum recommended task size is 1000 KiB.\n",
      "22/10/05 13:11:06 WARN TaskSetManager: Stage 5598 contains a task of very large size (3861 KiB). The maximum recommended task size is 1000 KiB.\n",
      "22/10/05 13:11:57 WARN TaskSetManager: Stage 5851 contains a task of very large size (3861 KiB). The maximum recommended task size is 1000 KiB.\n",
      "22/10/05 13:11:58 WARN TaskSetManager: Stage 5904 contains a task of very large size (3861 KiB). The maximum recommended task size is 1000 KiB.\n",
      "22/10/05 13:11:58 WARN TaskSetManager: Stage 5905 contains a task of very large size (3861 KiB). The maximum recommended task size is 1000 KiB.\n"
     ]
    }
   ],
   "source": [
    "spark.sparkContext.setCheckpointDir('checkpoint/')\n",
    "cv_fitted=cv.fit(train)"
   ]
  },
  {
   "cell_type": "code",
   "execution_count": 16,
   "metadata": {},
   "outputs": [
    {
     "name": "stdout",
     "output_type": "stream",
     "text": [
      "50 15 0.05\n"
     ]
    }
   ],
   "source": [
    "print(cv_fitted.bestModel.rank, cv_fitted.bestModel._java_obj.parent().getMaxIter(),cv_fitted.bestModel._java_obj.parent().getRegParam())"
   ]
  },
  {
   "cell_type": "code",
   "execution_count": 19,
   "metadata": {},
   "outputs": [
    {
     "name": "stdout",
     "output_type": "stream",
     "text": [
      "22/10/05 13:17:22 WARN TaskSetManager: Stage 6263 contains a task of very large size (3861 KiB). The maximum recommended task size is 1000 KiB.\n"
     ]
    },
    {
     "data": {
      "text/plain": [
       "0.8546624223994767"
      ]
     },
     "execution_count": 19,
     "metadata": {},
     "output_type": "execute_result"
    }
   ],
   "source": [
    "evaluator.evaluate(cv_fitted.transform(test).na.drop())"
   ]
  },
  {
   "cell_type": "code",
   "execution_count": 18,
   "metadata": {},
   "outputs": [
    {
     "name": "stdout",
     "output_type": "stream",
     "text": [
      "22/10/05 13:12:19 WARN TaskSetManager: Stage 6016 contains a task of very large size (3861 KiB). The maximum recommended task size is 1000 KiB.\n",
      "22/10/05 13:12:20 WARN TaskSetManager: Stage 6017 contains a task of very large size (3861 KiB). The maximum recommended task size is 1000 KiB.\n",
      "22/10/05 13:12:24 WARN TaskSetManager: Stage 6078 contains a task of very large size (3861 KiB). The maximum recommended task size is 1000 KiB.\n",
      "+------+-----+\n",
      "|userId|count|\n",
      "+------+-----+\n",
      "|     1|   10|\n",
      "|     5|   10|\n",
      "|     6|   10|\n",
      "|     7|    8|\n",
      "|     9|   10|\n",
      "|    10|   10|\n",
      "|    17|   10|\n",
      "|    19|   10|\n",
      "|    22|   10|\n",
      "|    25|   10|\n",
      "|    26|   10|\n",
      "|    27|   10|\n",
      "|    28|   10|\n",
      "|    29|   10|\n",
      "|    31|   10|\n",
      "|    32|    8|\n",
      "|    33|   10|\n",
      "|    34|   10|\n",
      "|    39|   10|\n",
      "|    41|    5|\n",
      "+------+-----+\n",
      "only showing top 20 rows\n",
      "\n",
      "22/10/05 13:12:26 WARN TaskSetManager: Stage 6138 contains a task of very large size (3861 KiB). The maximum recommended task size is 1000 KiB.\n",
      "22/10/05 13:12:28 WARN TaskSetManager: Stage 6198 contains a task of very large size (3861 KiB). The maximum recommended task size is 1000 KiB.\n"
     ]
    },
    {
     "data": {
      "text/plain": [
       "1.0"
      ]
     },
     "execution_count": 18,
     "metadata": {},
     "output_type": "execute_result"
    }
   ],
   "source": [
    "hr_evaluator = HitRate(predictionCol='prediction', labelCol='rating', userCol='userId')\n",
    "model = als.fit(train)\n",
    "predictions = model.transform(test)\n",
    "hr_evaluator.evaluate(predictions)"
   ]
  }
 ],
 "metadata": {
  "kernelspec": {
   "display_name": "Python 3.9.12 ('base')",
   "language": "python",
   "name": "python3"
  },
  "language_info": {
   "codemirror_mode": {
    "name": "ipython",
    "version": 3
   },
   "file_extension": ".py",
   "mimetype": "text/x-python",
   "name": "python",
   "nbconvert_exporter": "python",
   "pygments_lexer": "ipython3",
   "version": "3.9.12"
  },
  "orig_nbformat": 4,
  "vscode": {
   "interpreter": {
    "hash": "c650872fe48c780013875d4f984f728941c1d311640e7eee5c7ccd41a2e181b9"
   }
  }
 },
 "nbformat": 4,
 "nbformat_minor": 2
}
