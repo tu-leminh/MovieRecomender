{
 "cells": [
  {
   "cell_type": "code",
   "execution_count": 7,
   "metadata": {},
   "outputs": [],
   "source": [
    "from pyspark.context import SparkContext\n",
    "from pyspark.sql import SparkSession\n",
    "from pyspark.ml.evaluation import RegressionEvaluator\n",
    "from pyspark.ml.recommendation import ALS\n",
    "from pyspark.ml.tuning import ParamGridBuilder, CrossValidator\n",
    "from pyspark.ml.evaluation import RegressionEvaluator\n",
    "from pyspark.ml.tuning import CrossValidator, ParamGridBuilder\n",
    "from hit_rate import HitRate\n",
    "import pandas as pd"
   ]
  },
  {
   "cell_type": "code",
   "execution_count": 8,
   "metadata": {},
   "outputs": [],
   "source": [
    "import os\n",
    "import sys\n",
    "os.environ['PYSPARK_PYTHON'] = sys.executable\n",
    "os.environ['PYSPARK_DRIVER_PYTHON'] = sys.executable"
   ]
  },
  {
   "cell_type": "code",
   "execution_count": 9,
   "metadata": {},
   "outputs": [
    {
     "name": "stdout",
     "output_type": "stream",
     "text": [
      "<SparkContext master=local[*] appName=MovieRecomender>\n",
      "Spark App Name : MovieRecomender\n"
     ]
    }
   ],
   "source": [
    "spark = SparkSession.builder.master(\"local[*]\") \\\n",
    "                    .config('spark.ui.showConsoleProgress', 'false')\\\n",
    "                    .appName('MovieRecomender') \\\n",
    "                    .getOrCreate()\n",
    "print(spark.sparkContext)\n",
    "print(\"Spark App Name : \"+ spark.sparkContext.appName)"
   ]
  },
  {
   "cell_type": "code",
   "execution_count": 10,
   "metadata": {},
   "outputs": [
    {
     "name": "stderr",
     "output_type": "stream",
     "text": [
      "22/10/06 09:31:42 WARN TaskSetManager: Stage 2 contains a task of very large size (1581 KiB). The maximum recommended task size is 1000 KiB.\n"
     ]
    },
    {
     "data": {
      "text/plain": [
       "1000209"
      ]
     },
     "execution_count": 10,
     "metadata": {},
     "output_type": "execute_result"
    }
   ],
   "source": [
    "df = pd.read_csv(\"data/ratings.dat\", engine='python', sep='::', names=[\"UserID\", \"MovieID\", \"Rating\", \"Timestamp\"])\n",
    "df=df.drop([\"Timestamp\"],axis=1)\n",
    "df.dropna()\n",
    "df = spark.createDataFrame(df)\n",
    "df.createOrReplaceTempView(\"dataset\");\n",
    "df = df.cache()\n",
    "df.count() #force cache"
   ]
  },
  {
   "cell_type": "code",
   "execution_count": 11,
   "metadata": {},
   "outputs": [
    {
     "name": "stderr",
     "output_type": "stream",
     "text": [
      "22/10/06 09:31:48 WARN TaskSetManager: Stage 4 contains a task of very large size (1581 KiB). The maximum recommended task size is 1000 KiB.\n",
      "22/10/06 09:31:48 WARN TaskSetManager: Stage 5 contains a task of very large size (1581 KiB). The maximum recommended task size is 1000 KiB.\n",
      "22/10/06 09:31:48 WARN TaskSetManager: Stage 7 contains a task of very large size (1581 KiB). The maximum recommended task size is 1000 KiB.\n"
     ]
    },
    {
     "name": "stdout",
     "output_type": "stream",
     "text": [
      "+------+-------+------+\n",
      "|UserID|MovieID|Rating|\n",
      "+------+-------+------+\n",
      "|     1|     94|  null|\n",
      "|     1|    185|  null|\n",
      "|     1|    328|  null|\n",
      "|     1|    354|  null|\n",
      "|     1|    367|  null|\n",
      "|     1|   1086|  null|\n",
      "|     1|   1160|  null|\n",
      "|     1|   1500|  null|\n",
      "|     1|   1620|  null|\n",
      "|     1|   2393|  null|\n",
      "|     1|   2597|  null|\n",
      "|     1|   2857|  null|\n",
      "|     1|   2868|  null|\n",
      "|     1|   2984|  null|\n",
      "|     1|   3003|  null|\n",
      "|     1|   3134|  null|\n",
      "|     1|   3437|  null|\n",
      "|     1|   3462|  null|\n",
      "|     1|   3808|  null|\n",
      "|     2|    702|  null|\n",
      "+------+-------+------+\n",
      "only showing top 20 rows\n",
      "\n"
     ]
    }
   ],
   "source": [
    "sql = '''\n",
    "select \n",
    "  A.UserID, A.MovieID, Rating\n",
    "from \n",
    "  (\n",
    "    select \n",
    "      * \n",
    "    from \n",
    "      (\n",
    "        select \n",
    "          distinct(UserID) \n",
    "        from \n",
    "          dataset\n",
    "      ), \n",
    "      (\n",
    "        select \n",
    "          distinct(MovieID) \n",
    "        from \n",
    "          dataset\n",
    "      )\n",
    "  ) as A left outer join dataset as B\n",
    "  on (A.UserID, A.MovieID) = (B.UserID, B.MovieID)\n",
    "'''\n",
    "full_matrix = spark.sql(sql)\n",
    "full_matrix.show()"
   ]
  },
  {
   "cell_type": "code",
   "execution_count": 12,
   "metadata": {},
   "outputs": [
    {
     "name": "stderr",
     "output_type": "stream",
     "text": [
      "22/10/06 09:34:51 WARN TaskSetManager: Stage 9 contains a task of very large size (1581 KiB). The maximum recommended task size is 1000 KiB.\n",
      "22/10/06 09:34:51 WARN TaskSetManager: Stage 10 contains a task of very large size (1581 KiB). The maximum recommended task size is 1000 KiB.\n",
      "22/10/06 09:34:51 WARN TaskSetManager: Stage 12 contains a task of very large size (1581 KiB). The maximum recommended task size is 1000 KiB.\n"
     ]
    },
    {
     "data": {
      "text/plain": [
       "22384240"
      ]
     },
     "execution_count": 12,
     "metadata": {},
     "output_type": "execute_result"
    }
   ],
   "source": [
    "full_matrix.count()"
   ]
  },
  {
   "cell_type": "markdown",
   "metadata": {},
   "source": [
    "Leave one out for each group in full_matrix"
   ]
  },
  {
   "cell_type": "markdown",
   "metadata": {},
   "source": [
    "loo_matrix = full_matrix"
   ]
  },
  {
   "cell_type": "code",
   "execution_count": 13,
   "metadata": {},
   "outputs": [],
   "source": [
    "(train, test) = df.randomSplit([0.8, 0.2])"
   ]
  },
  {
   "cell_type": "code",
   "execution_count": 14,
   "metadata": {},
   "outputs": [],
   "source": [
    "als = ALS(userCol=\"UserID\", itemCol=\"MovieID\", ratingCol=\"Rating\", nonnegative = True, implicitPrefs = False,coldStartStrategy=\"drop\")"
   ]
  },
  {
   "cell_type": "code",
   "execution_count": 15,
   "metadata": {},
   "outputs": [],
   "source": [
    "grid_search = ParamGridBuilder().addGrid(als.rank,[50]).addGrid(als.maxIter,[15]).addGrid(als.regParam, [0.05] ).build()\n",
    "#thay đổi hyperparams ở đây và chạy lấy kết quả viết báo cáo"
   ]
  },
  {
   "cell_type": "code",
   "execution_count": 16,
   "metadata": {},
   "outputs": [],
   "source": [
    "evaluator = RegressionEvaluator(metricName=\"rmse\", labelCol=\"Rating\", predictionCol=\"prediction\") "
   ]
  },
  {
   "cell_type": "code",
   "execution_count": 17,
   "metadata": {},
   "outputs": [],
   "source": [
    "cv = CrossValidator(estimator=als, estimatorParamMaps=grid_search, evaluator=evaluator, numFolds=5)"
   ]
  },
  {
   "cell_type": "code",
   "execution_count": 18,
   "metadata": {},
   "outputs": [
    {
     "name": "stderr",
     "output_type": "stream",
     "text": [
      "22/10/06 09:38:42 WARN TaskSetManager: Stage 15 contains a task of very large size (1581 KiB). The maximum recommended task size is 1000 KiB.\n",
      "22/10/06 09:38:42 WARN TaskSetManager: Stage 16 contains a task of very large size (1581 KiB). The maximum recommended task size is 1000 KiB.\n",
      "22/10/06 09:38:45 WARN BLAS: Failed to load implementation from: com.github.fommil.netlib.NativeSystemBLAS\n",
      "22/10/06 09:38:45 WARN BLAS: Failed to load implementation from: com.github.fommil.netlib.NativeRefBLAS\n",
      "22/10/06 09:38:59 WARN TaskSetManager: Stage 118 contains a task of very large size (1581 KiB). The maximum recommended task size is 1000 KiB.\n",
      "22/10/06 09:39:03 WARN TaskSetManager: Stage 123 contains a task of very large size (1581 KiB). The maximum recommended task size is 1000 KiB.\n",
      "22/10/06 09:39:03 WARN TaskSetManager: Stage 124 contains a task of very large size (1581 KiB). The maximum recommended task size is 1000 KiB.\n",
      "22/10/06 09:39:19 WARN TaskSetManager: Stage 256 contains a task of very large size (1581 KiB). The maximum recommended task size is 1000 KiB.\n",
      "22/10/06 09:39:22 WARN TaskSetManager: Stage 261 contains a task of very large size (1581 KiB). The maximum recommended task size is 1000 KiB.\n",
      "22/10/06 09:39:22 WARN TaskSetManager: Stage 262 contains a task of very large size (1581 KiB). The maximum recommended task size is 1000 KiB.\n",
      "22/10/06 09:39:34 WARN TaskSetManager: Stage 363 contains a task of very large size (1581 KiB). The maximum recommended task size is 1000 KiB.\n",
      "22/10/06 09:39:37 WARN TaskSetManager: Stage 369 contains a task of very large size (1581 KiB). The maximum recommended task size is 1000 KiB.\n",
      "22/10/06 09:39:37 WARN TaskSetManager: Stage 370 contains a task of very large size (1581 KiB). The maximum recommended task size is 1000 KiB.\n",
      "22/10/06 09:39:52 WARN TaskSetManager: Stage 501 contains a task of very large size (1581 KiB). The maximum recommended task size is 1000 KiB.\n",
      "22/10/06 09:39:55 WARN TaskSetManager: Stage 507 contains a task of very large size (1581 KiB). The maximum recommended task size is 1000 KiB.\n",
      "22/10/06 09:39:55 WARN TaskSetManager: Stage 508 contains a task of very large size (1581 KiB). The maximum recommended task size is 1000 KiB.\n",
      "22/10/06 09:40:08 WARN TaskSetManager: Stage 609 contains a task of very large size (1581 KiB). The maximum recommended task size is 1000 KiB.\n",
      "22/10/06 09:40:10 WARN TaskSetManager: Stage 615 contains a task of very large size (1581 KiB). The maximum recommended task size is 1000 KiB.\n",
      "22/10/06 09:40:10 WARN TaskSetManager: Stage 616 contains a task of very large size (1581 KiB). The maximum recommended task size is 1000 KiB.\n",
      "22/10/06 09:40:25 WARN TaskSetManager: Stage 747 contains a task of very large size (1581 KiB). The maximum recommended task size is 1000 KiB.\n",
      "22/10/06 09:40:28 WARN TaskSetManager: Stage 753 contains a task of very large size (1581 KiB). The maximum recommended task size is 1000 KiB.\n",
      "22/10/06 09:40:28 WARN TaskSetManager: Stage 754 contains a task of very large size (1581 KiB). The maximum recommended task size is 1000 KiB.\n",
      "22/10/06 09:40:39 WARN TaskSetManager: Stage 855 contains a task of very large size (1581 KiB). The maximum recommended task size is 1000 KiB.\n",
      "22/10/06 09:40:41 WARN TaskSetManager: Stage 861 contains a task of very large size (1581 KiB). The maximum recommended task size is 1000 KiB.\n",
      "22/10/06 09:40:41 WARN TaskSetManager: Stage 862 contains a task of very large size (1581 KiB). The maximum recommended task size is 1000 KiB.\n",
      "22/10/06 09:40:56 WARN TaskSetManager: Stage 993 contains a task of very large size (1581 KiB). The maximum recommended task size is 1000 KiB.\n",
      "22/10/06 09:40:58 WARN TaskSetManager: Stage 999 contains a task of very large size (1581 KiB). The maximum recommended task size is 1000 KiB.\n",
      "22/10/06 09:40:59 WARN TaskSetManager: Stage 1000 contains a task of very large size (1581 KiB). The maximum recommended task size is 1000 KiB.\n",
      "22/10/06 09:41:11 WARN TaskSetManager: Stage 1102 contains a task of very large size (1581 KiB). The maximum recommended task size is 1000 KiB.\n",
      "22/10/06 09:41:13 WARN TaskSetManager: Stage 1107 contains a task of very large size (1581 KiB). The maximum recommended task size is 1000 KiB.\n",
      "22/10/06 09:41:13 WARN TaskSetManager: Stage 1108 contains a task of very large size (1581 KiB). The maximum recommended task size is 1000 KiB.\n",
      "22/10/06 09:41:28 WARN TaskSetManager: Stage 1240 contains a task of very large size (1581 KiB). The maximum recommended task size is 1000 KiB.\n",
      "22/10/06 09:41:30 WARN TaskSetManager: Stage 1245 contains a task of very large size (1581 KiB). The maximum recommended task size is 1000 KiB.\n",
      "22/10/06 09:41:30 WARN TaskSetManager: Stage 1246 contains a task of very large size (1581 KiB). The maximum recommended task size is 1000 KiB.\n"
     ]
    }
   ],
   "source": [
    "spark.sparkContext.setCheckpointDir('checkpoint/')\n",
    "cv_fitted=cv.fit(train)"
   ]
  },
  {
   "cell_type": "code",
   "execution_count": 19,
   "metadata": {},
   "outputs": [
    {
     "name": "stdout",
     "output_type": "stream",
     "text": [
      "50 15 0.05\n"
     ]
    }
   ],
   "source": [
    "print(cv_fitted.bestModel.rank, cv_fitted.bestModel._java_obj.parent().getMaxIter(),cv_fitted.bestModel._java_obj.parent().getRegParam())"
   ]
  },
  {
   "cell_type": "code",
   "execution_count": 20,
   "metadata": {},
   "outputs": [
    {
     "name": "stderr",
     "output_type": "stream",
     "text": [
      "22/10/06 09:41:44 WARN TaskSetManager: Stage 1348 contains a task of very large size (1581 KiB). The maximum recommended task size is 1000 KiB.\n"
     ]
    },
    {
     "data": {
      "text/plain": [
       "0.8563465051361246"
      ]
     },
     "execution_count": 20,
     "metadata": {},
     "output_type": "execute_result"
    }
   ],
   "source": [
    "evaluator.evaluate(cv_fitted.transform(test).na.drop())"
   ]
  },
  {
   "cell_type": "code",
   "execution_count": 21,
   "metadata": {},
   "outputs": [
    {
     "name": "stderr",
     "output_type": "stream",
     "text": [
      "22/10/06 09:41:47 WARN TaskSetManager: Stage 1353 contains a task of very large size (1581 KiB). The maximum recommended task size is 1000 KiB.\n",
      "22/10/06 09:41:47 WARN TaskSetManager: Stage 1354 contains a task of very large size (1581 KiB). The maximum recommended task size is 1000 KiB.\n"
     ]
    },
    {
     "ename": "TypeError",
     "evalue": "_evaluate() missing 1 required positional argument: 'gt'",
     "output_type": "error",
     "traceback": [
      "\u001b[0;31m---------------------------------------------------------------------------\u001b[0m",
      "\u001b[0;31mTypeError\u001b[0m                                 Traceback (most recent call last)",
      "\u001b[1;32m/home/mt/Desktop/MovieRecomender/notebook.ipynb Cell 17\u001b[0m in \u001b[0;36m<cell line: 4>\u001b[0;34m()\u001b[0m\n\u001b[1;32m      <a href='vscode-notebook-cell:/home/mt/Desktop/MovieRecomender/notebook.ipynb#Y103sZmlsZQ%3D%3D?line=1'>2</a>\u001b[0m model \u001b[39m=\u001b[39m als\u001b[39m.\u001b[39mfit(train)\n\u001b[1;32m      <a href='vscode-notebook-cell:/home/mt/Desktop/MovieRecomender/notebook.ipynb#Y103sZmlsZQ%3D%3D?line=2'>3</a>\u001b[0m predictions \u001b[39m=\u001b[39m model\u001b[39m.\u001b[39mtransform(test)\n\u001b[0;32m----> <a href='vscode-notebook-cell:/home/mt/Desktop/MovieRecomender/notebook.ipynb#Y103sZmlsZQ%3D%3D?line=3'>4</a>\u001b[0m hr_evaluator\u001b[39m.\u001b[39;49mevaluate(predictions)\n",
      "File \u001b[0;32m~/Files/conda/lib/python3.9/site-packages/pyspark/ml/evaluation.py:84\u001b[0m, in \u001b[0;36mEvaluator.evaluate\u001b[0;34m(self, dataset, params)\u001b[0m\n\u001b[1;32m     82\u001b[0m         \u001b[39mreturn\u001b[39;00m \u001b[39mself\u001b[39m\u001b[39m.\u001b[39mcopy(params)\u001b[39m.\u001b[39m_evaluate(dataset)\n\u001b[1;32m     83\u001b[0m     \u001b[39melse\u001b[39;00m:\n\u001b[0;32m---> 84\u001b[0m         \u001b[39mreturn\u001b[39;00m \u001b[39mself\u001b[39;49m\u001b[39m.\u001b[39;49m_evaluate(dataset)\n\u001b[1;32m     85\u001b[0m \u001b[39melse\u001b[39;00m:\n\u001b[1;32m     86\u001b[0m     \u001b[39mraise\u001b[39;00m \u001b[39mValueError\u001b[39;00m(\u001b[39m\"\u001b[39m\u001b[39mParams must be a param map but got \u001b[39m\u001b[39m%s\u001b[39;00m\u001b[39m.\u001b[39m\u001b[39m\"\u001b[39m \u001b[39m%\u001b[39m \u001b[39mtype\u001b[39m(params))\n",
      "\u001b[0;31mTypeError\u001b[0m: _evaluate() missing 1 required positional argument: 'gt'"
     ]
    }
   ],
   "source": [
    "hr_evaluator = HitRate(predictionCol='prediction', labelCol='rating', userCol='userId')\n",
    "model = als.fit(train)\n",
    "predictions = model.transform(test)\n",
    "hr_evaluator.evaluate(predictions)"
   ]
  }
 ],
 "metadata": {
  "kernelspec": {
   "display_name": "Python 3.9.12 ('base')",
   "language": "python",
   "name": "python3"
  },
  "language_info": {
   "codemirror_mode": {
    "name": "ipython",
    "version": 3
   },
   "file_extension": ".py",
   "mimetype": "text/x-python",
   "name": "python",
   "nbconvert_exporter": "python",
   "pygments_lexer": "ipython3",
   "version": "3.9.12"
  },
  "orig_nbformat": 4,
  "vscode": {
   "interpreter": {
    "hash": "2a2d9fd7e9f89f7b2e17511071ff85730f142684744a4d09a2bb99de17d2a3a7"
   }
  }
 },
 "nbformat": 4,
 "nbformat_minor": 2
}
