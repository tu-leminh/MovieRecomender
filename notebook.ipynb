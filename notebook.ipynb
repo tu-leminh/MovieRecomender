{
 "cells": [
  {
   "cell_type": "code",
   "execution_count": null,
   "metadata": {},
   "outputs": [],
   "source": [
    "from pyspark.context import SparkContext\n",
    "from pyspark.sql import SparkSession\n",
    "from pyspark.ml.evaluation import RegressionEvaluator\n",
    "from pyspark.ml.recommendation import ALS\n",
    "from pyspark.ml.tuning import ParamGridBuilder, CrossValidator\n",
    "from pyspark.ml.evaluation import RegressionEvaluator\n",
    "from pyspark.ml.tuning import CrossValidator, ParamGridBuilder\n",
    "from pyspark.sql.types import *\n",
    "\n",
    "from pyspark.sql import functions as F\n",
    "import pandas as pd\n",
    "\n",
    "#For windows user only\n",
    "import os \n",
    "import sys\n",
    "os.environ['PYSPARK_PYTHON'] = sys.executable\n",
    "os.environ['PYSPARK_DRIVER_PYTHON'] = sys.executable"
   ]
  },
  {
   "cell_type": "code",
   "execution_count": null,
   "metadata": {},
   "outputs": [],
   "source": [
    "spark = SparkSession.builder.master(\"local[*]\") \\\n",
    "                    .config('spark.ui.showConsoleProgress', 'false')\\\n",
    "                    .appName('MovieRecomender') \\\n",
    "                    .getOrCreate()\n",
    "print(spark.sparkContext)\n",
    "print(\"Spark App Name : \"+ spark.sparkContext.appName)"
   ]
  },
  {
   "cell_type": "code",
   "execution_count": null,
   "metadata": {},
   "outputs": [],
   "source": [
    "schema =             StructType([\n",
    "                    StructField('UserID', LongType(), True),\n",
    "                     StructField('MovieID', LongType(), True),\n",
    "                     StructField('Rating', IntegerType(), True),\n",
    "                     StructField('Timestamp', LongType(), True),\n",
    "                     ])"
   ]
  },
  {
   "cell_type": "code",
   "execution_count": null,
   "metadata": {},
   "outputs": [],
   "source": [
    "df = spark.read.option(\"sep\", \"::\").schema(schema).csv(\"data/ratings.dat\")\n",
    "df.na.drop()\n",
    "df = df.toDF(*[\"UserID\", \"MovieID\", \"Rating\", \"Timestamp\"])\n",
    "df.createOrReplaceTempView(\"dataset\");\n",
    "df = df.cache()\n",
    "df.count() #force cache"
   ]
  },
  {
   "cell_type": "code",
   "execution_count": null,
   "metadata": {},
   "outputs": [],
   "source": [
    "sql = '''\n",
    "select \n",
    "  A.UserID, A.MovieID, Rating, ROW_NUMBER() OVER (partition by A.UserID order by Rating desc) as RowNumber\n",
    "from \n",
    "  (\n",
    "    select \n",
    "      * \n",
    "    from \n",
    "      (\n",
    "        select \n",
    "          distinct(UserID) \n",
    "        from \n",
    "          dataset\n",
    "      ), \n",
    "      (\n",
    "        select \n",
    "          distinct(MovieID) \n",
    "        from \n",
    "          dataset\n",
    "      )\n",
    "  ) as A left outer join dataset as B\n",
    "  on (A.UserID, A.MovieID) = (B.UserID, B.MovieID)\n",
    "'''\n",
    "full_matrix = spark.sql(sql)\n",
    "# full_matrix = full_matrix.persist()\n",
    "full_matrix.show()"
   ]
  },
  {
   "cell_type": "markdown",
   "metadata": {},
   "source": [
    "Leave one out for each group in full_matrix"
   ]
  },
  {
   "cell_type": "code",
   "execution_count": null,
   "metadata": {},
   "outputs": [],
   "source": [
    "# (train, test) = df.randomSplit([0.8, 0.2])"
   ]
  },
  {
   "cell_type": "code",
   "execution_count": null,
   "metadata": {},
   "outputs": [],
   "source": [
    "als = ALS(userCol=\"UserID\", itemCol=\"MovieID\", ratingCol=\"Rating\", nonnegative = True, implicitPrefs = False,coldStartStrategy=\"drop\")"
   ]
  },
  {
   "cell_type": "code",
   "execution_count": null,
   "metadata": {},
   "outputs": [],
   "source": [
    "# grid_search = ParamGridBuilder().addGrid(als.rank,[50]).addGrid(als.maxIter,[15]).addGrid(als.regParam, [0.05] ).build()\n",
    "# #thay đổi hyperparams ở đây và chạy lấy kết quả viết báo cáo"
   ]
  },
  {
   "cell_type": "code",
   "execution_count": null,
   "metadata": {},
   "outputs": [],
   "source": [
    "# evaluator = RegressionEvaluator(metricName=\"rmse\", labelCol=\"Rating\", predictionCol=\"prediction\") "
   ]
  },
  {
   "cell_type": "code",
   "execution_count": null,
   "metadata": {},
   "outputs": [],
   "source": [
    "# cv = CrossValidator(estimator=als, estimatorParamMaps=grid_search, evaluator=evaluator, numFolds=5)"
   ]
  },
  {
   "cell_type": "code",
   "execution_count": null,
   "metadata": {},
   "outputs": [],
   "source": [
    "# spark.sparkContext.setCheckpointDir('checkpoint/')\n",
    "# cv_fitted=cv.fit(train)"
   ]
  },
  {
   "cell_type": "code",
   "execution_count": null,
   "metadata": {},
   "outputs": [],
   "source": [
    "# print(cv_fitted.bestModel.rank, cv_fitted.bestModel._java_obj.parent().getMaxIter(),cv_fitted.bestModel._java_obj.parent().getRegParam())"
   ]
  },
  {
   "cell_type": "code",
   "execution_count": null,
   "metadata": {},
   "outputs": [],
   "source": [
    "# evaluator.evaluate(cv_fitted.transform(test).na.drop())"
   ]
  },
  {
   "cell_type": "code",
   "execution_count": null,
   "metadata": {},
   "outputs": [],
   "source": [
    "import pyspark.sql.functions as F\n",
    "from pyspark.ml.evaluation import Evaluator\n",
    "from pyspark.sql.window import Window\n",
    "from pyspark.sql.functions import row_number\n",
    "from pyspark.ml import Estimator\n",
    "from pyspark.sql import DataFrame\n",
    "\n",
    "class HitRate(Evaluator):\n",
    "    def __init__(self, predictionCol='prediction', labelCol='label', userCol = 'userID', itemCol = 'itemID', rowNumber = 'RowNumber', k = 10, repeats = 100):\n",
    "        self.predictionCol = predictionCol\n",
    "        self.labelCol = labelCol\n",
    "        self.userCol = userCol\n",
    "        self.itemCol = itemCol\n",
    "        self.rowNumber = rowNumber\n",
    "        self.k = k\n",
    "        self.repeats = repeats\n",
    "        \n",
    "    def leaveOneOut(self, dataset):\n",
    "      windowSpec  = Window.partitionBy(self.userCol).orderBy(F.col(self.labelCol).desc)\n",
    "      return dataset.withColumn(\"row_number\",row_number().over(windowSpec)).filter(F.col(\"row_numer\") == 1)\n",
    "\n",
    "    def eval(self, dataframe : DataFrame, estimator : Estimator) -> float:\n",
    "      totalHit = 0\n",
    "      user_df = dataframe.select(self.userCol).distinct()\n",
    "      movie_df = dataframe.select(self.itemCol).distinct()\n",
    "      for userRow in user_df.take(self.repeats):\n",
    "        userID = userRow[self.userCol]\n",
    "      \n",
    "        # leave one out\n",
    "        leave_out_condition = '{}!={} or {}!={}'.format(self.rowNumber, 1, self.userCol, userID)\n",
    "        keep_one_condition = '{}={} and {}={}'.format(self.rowNumber, 1, self.userCol, userID)\n",
    "        loo_df = dataframe.filter(leave_out_condition)\n",
    "        left_out = dataframe.filter(keep_one_condition).first()\n",
    "\n",
    "        check_condition = \"{}={} and {}={} and prediction_row_number <= {}\". \\\n",
    "                format(self.userCol, left_out[self.userCol], self.itemCol, left_out[self.itemCol], self.k)\n",
    "\n",
    "        model = estimator.fit(loo_df.dropna())\n",
    "        test = movie_df.withColumn(self.userCol, F.lit(userID))\n",
    "        result = model.transform(test)\n",
    "        \n",
    "        windowSpec  = Window.partitionBy(self.userCol).orderBy(F.col(self.predictionCol).desc())\n",
    "        result = result.withColumn(\"prediction_row_number\", row_number().over(windowSpec))\n",
    "        isEmpty = result.filter(check_condition).rdd.isEmpty()\n",
    "        \n",
    "        print(\"Left out: {} with rating of {} and ranking of {}\".format(left_out[self.itemCol], left_out[self.labelCol], left_out[self.rowNumber]))\n",
    "        result.filter(\"{}={} and {}={}\". \\\n",
    "                format(self.userCol, left_out[self.userCol], self.itemCol, left_out[self.itemCol], self.k), ).show()\n",
    "\n",
    "        if not (isEmpty):\n",
    "          print(userID + \" is a hit\")\n",
    "          totalHit = totalHit + 1\n",
    "\n",
    "        loo_df.unpersist(blocking = True)\n",
    "        result.unpersist(blocking = True)\n",
    "      return totalHit / self.repeats\n",
    "\n",
    "    def _evaluate(self, dataset, gt):\n",
    "      windowSpec  = Window.partitionBy(self.userCol).orderBy(F.col(self.predictionCol).desc)\n",
    "      dataset = dataset.withColumn(\"row_number\",row_number().over(windowSpec))\n",
    "\n",
    "      #count hit\n",
    "      res = dataset.filter(F.col(\"row_number\") <= self.k).groupBy(self.userCol).agg(F.sum(F.when(dataset[self.labelCol].isNull(), 0).otherwise(1)).alias(\"count\"))\n",
    "      res.show()\n",
    "      res = res.agg(F.count(F.col(\"count\") >= 1).alias(\"hit\"))\n",
    "\n",
    "      #count user\n",
    "      user_count = dataset.agg(F.countDistinct(self.userCol).alias(\"total\"))\n",
    "\n",
    "      return res.first()[\"hit\"] / user_count.first()[\"total\"]\n",
    "\n",
    "    def isLargerBetter(self):\n",
    "        return True"
   ]
  },
  {
   "cell_type": "code",
   "execution_count": null,
   "metadata": {},
   "outputs": [],
   "source": [
    "hr_evaluator = HitRate(predictionCol='prediction', labelCol='Rating', userCol='UserID', itemCol = \"MovieID\", repeats=2)\n",
    "value = hr_evaluator.eval(full_matrix, als)\n",
    "print(\"Hit rate is {}\".format(value))\n",
    "# model = als.fit(train)\n",
    "# predictions = model.transform(test)\n",
    "# hr_evaluator.evaluate(predictions)"
   ]
  }
 ],
 "metadata": {
  "kernelspec": {
   "display_name": "Python 3.9.12 ('base')Python 3.10.1 64-bit",
   "language": "python",
   "name": "python3"
  },
  "language_info": {
   "codemirror_mode": {
    "name": "ipython",
    "version": 3
   },
   "file_extension": ".py",
   "mimetype": "text/x-python",
   "name": "python",
   "nbconvert_exporter": "python",
   "pygments_lexer": "ipython3",
   "version": "3.10.1"
  },
  "nbdime-conflicts": {
   "local_diff": [
    {
     "diff": [
      {
       "diff": [
        {
         "key": 0,
         "length": 1,
         "op": "removerange"
        }
       ],
       "key": "display_name",
       "op": "patch"
      }
     ],
     "key": "kernelspec",
     "op": "patch"
    },
    {
     "diff": [
      {
       "diff": [
        {
         "key": 0,
         "op": "addrange",
         "valuelist": [
          "3.9.12"
         ]
        },
        {
         "key": 0,
         "length": 1,
         "op": "removerange"
        }
       ],
       "key": "version",
       "op": "patch"
      }
     ],
     "key": "language_info",
     "op": "patch"
    },
    {
     "diff": [
      {
       "diff": [
        {
         "diff": [
          {
           "key": 0,
           "op": "addrange",
           "valuelist": [
            "2a2d9fd7e9f89f7b2e17511071ff85730f142684744a4d09a2bb99de17d2a3a7"
           ]
          },
          {
           "key": 0,
           "length": 1,
           "op": "removerange"
          }
         ],
         "key": "hash",
         "op": "patch"
        }
       ],
       "key": "interpreter",
       "op": "patch"
      }
     ],
     "key": "vscode",
     "op": "patch"
    }
   ],
   "remote_diff": [
    {
     "diff": [
      {
       "diff": [
        {
         "diff": [
          {
           "key": 9,
           "op": "addrange",
           "valuelist": "8."
          },
          {
           "key": 11,
           "length": 2,
           "op": "removerange"
          }
         ],
         "key": 0,
         "op": "patch"
        }
       ],
       "key": "display_name",
       "op": "patch"
      }
     ],
     "key": "kernelspec",
     "op": "patch"
    },
    {
     "diff": [
      {
       "diff": [
        {
         "key": 0,
         "op": "addrange",
         "valuelist": [
          "3.8.10"
         ]
        },
        {
         "key": 0,
         "length": 1,
         "op": "removerange"
        }
       ],
       "key": "version",
       "op": "patch"
      }
     ],
     "key": "language_info",
     "op": "patch"
    },
    {
     "diff": [
      {
       "diff": [
        {
         "diff": [
          {
           "key": 0,
           "op": "addrange",
           "valuelist": [
            "916dbcbb3f70747c44a77c7bcd40155683ae19c65e1c03b4aa3499c5328201f1"
           ]
          },
          {
           "key": 0,
           "length": 1,
           "op": "removerange"
          }
         ],
         "key": "hash",
         "op": "patch"
        }
       ],
       "key": "interpreter",
       "op": "patch"
      }
     ],
     "key": "vscode",
     "op": "patch"
    }
   ]
  },
  "vscode": {
   "interpreter": {
    "hash": "124abba6514438ab53c11acaf3afc05fa2c91147de36b77a0837384a6fb18358"
   }
  }
 },
 "nbformat": 4,
 "nbformat_minor": 2
}
