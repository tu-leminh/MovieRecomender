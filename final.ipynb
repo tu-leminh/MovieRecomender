{
 "cells": [
  {
   "cell_type": "code",
   "execution_count": null,
   "metadata": {},
   "outputs": [],
   "source": [
    "from pyspark.context import SparkContext\n",
    "from pyspark.sql import SparkSession\n",
    "from pyspark.sql.functions import udf,col,collect_list\n",
    "from pyspark.sql.types import StringType, ArrayType, DoubleType,IntegerType\n",
    "from pyspark.ml.evaluation import RegressionEvaluator\n",
    "from pyspark.ml.recommendation import ALS\n",
    "from pyspark.ml.tuning import ParamGridBuilder, CrossValidator\n",
    "from pyspark.ml.evaluation import RegressionEvaluator\n",
    "from pyspark.ml.tuning import CrossValidator, ParamGridBuilder\n",
    "from pyspark.ml.evaluation import RankingEvaluator\n",
    "from HR import HitRate\n",
    "\n",
    "from pyspark.sql.types import *\n",
    "from pyspark.sql import functions as F\n",
    "\n",
    "#For windows user only\n",
    "import os \n",
    "import sys\n",
    "os.environ['PYSPARK_PYTHON'] = sys.executable\n",
    "os.environ['PYSPARK_DRIVER_PYTHON'] = sys.executable"
   ]
  },
  {
   "cell_type": "markdown",
   "metadata": {},
   "source": [
    "# Create spark session"
   ]
  },
  {
   "cell_type": "code",
   "execution_count": null,
   "metadata": {},
   "outputs": [],
   "source": [
    "spark = SparkSession.builder.master(\"local[*]\") \\\n",
    "                    .config('spark.ui.showConsoleProgress', 'false')\\\n",
    "                    .appName('MovieRecomender') \\\n",
    "                    .getOrCreate()\n",
    "                    \n",
    "spark.sparkContext.setCheckpointDir('checkpoint/')"
   ]
  },
  {
   "cell_type": "code",
   "execution_count": null,
   "metadata": {},
   "outputs": [],
   "source": [
    "schema =             StructType([\n",
    "                    StructField('UserID', LongType(), True),\n",
    "                     StructField('MovieID', LongType(), True),\n",
    "                     StructField('Rating', IntegerType(), True),\n",
    "                     StructField('Timestamp', LongType(), True),\n",
    "                     ])"
   ]
  },
  {
   "cell_type": "code",
   "execution_count": null,
   "metadata": {},
   "outputs": [],
   "source": [
    "df = spark.read.option(\"sep\", \"::\").schema(schema).csv(\"data/ml-1m/ratings.dat\")\n",
    "df = df.toDF(*[\"UserID\", \"MovieID\", \"Rating\", \"Timestamp\"])\n",
    "df.createOrReplaceTempView(\"dataset\");\n",
    "df = df.dropna()\n",
    "df.cache().count() #Force cache"
   ]
  },
  {
   "cell_type": "markdown",
   "metadata": {},
   "source": [
    "# Model config"
   ]
  },
  {
   "cell_type": "code",
   "execution_count": null,
   "metadata": {},
   "outputs": [],
   "source": [
    "als = ALS(\n",
    "    rank=10,\n",
    "    maxIter=15,\n",
    "    regParam=0.05,\n",
    "    \n",
    "    userCol=\"UserID\",\n",
    "    itemCol=\"MovieID\",\n",
    "    ratingCol=\"Rating\",\n",
    "    implicitPrefs=False,\n",
    "    coldStartStrategy='drop',\n",
    "    nonnegative=False,\n",
    ")"
   ]
  },
  {
   "cell_type": "code",
   "execution_count": null,
   "metadata": {},
   "outputs": [],
   "source": [
    "rankRange = [10, 15]\n",
    "iterRange = [10, 15]\n",
    "regParamRange = [0.05, 0.1]"
   ]
  },
  {
   "cell_type": "markdown",
   "metadata": {},
   "source": [
    "# Hit Rate"
   ]
  },
  {
   "cell_type": "code",
   "execution_count": null,
   "metadata": {},
   "outputs": [],
   "source": [
    "def evaluate_hit_rate(als, left_out_df, keep_one_df, full_matrix, n_users):\n",
    "    hr_evaluator = HitRate(predictionCol='prediction', labelCol='Rating', userCol='UserID', itemCol = \"MovieID\")\n",
    "    value = hr_evaluator.eval(als, left_out_df, keep_one_df, full_matrix, n_users)\n",
    "    return value"
   ]
  },
  {
   "cell_type": "markdown",
   "metadata": {},
   "source": [
    "# RMSE"
   ]
  },
  {
   "cell_type": "code",
   "execution_count": null,
   "metadata": {},
   "outputs": [],
   "source": [
    "def evaluate_rmse(model, test):\n",
    "    rmse = RegressionEvaluator(metricName=\"rmse\", labelCol=\"Rating\", predictionCol=\"prediction\")       \n",
    "    predictions=model.transform(test).na.drop()\n",
    "    return rmse.evaluate(predictions)"
   ]
  },
  {
   "cell_type": "markdown",
   "metadata": {},
   "source": [
    "# NCDG at K"
   ]
  },
  {
   "cell_type": "code",
   "execution_count": null,
   "metadata": {},
   "outputs": [],
   "source": [
    "def getRank(a):\n",
    "    ret=[]\n",
    "    for i in a:\n",
    "        ret.append(float(i.MovieID))\n",
    "    return ret\n",
    "def toDouble(a):\n",
    "    return [float(i) for i in a]\n",
    "\n",
    "convertUDF = udf(lambda z: getRank(z),ArrayType(DoubleType()))\n",
    "toDoubleUDF = udf(lambda z: toDouble(z),ArrayType(DoubleType()))"
   ]
  },
  {
   "cell_type": "code",
   "execution_count": null,
   "metadata": {},
   "outputs": [],
   "source": [
    "def evaluate_ndcg_at_k(model, df, n_items, k = 10):\n",
    "    ndcg = RankingEvaluator(labelCol=\"RealRank\", predictionCol=\"recommendations\",metricName=\"ndcgAtK\", k=k)\n",
    "    tempt=df.sort(col('Rating').desc()).groupBy(\"UserID\").agg(collect_list('MovieID').alias(\"RealRank\"))\n",
    "    tempt=tempt.withColumn(\"RealRank\",toDoubleUDF(col(\"RealRank\")))\n",
    "\n",
    "    rec=model.recommendForAllUsers(n_items).join(tempt,\"UserID\",\"inner\")\n",
    "    rec=rec.withColumn(\"recommendations\",convertUDF(col(\"recommendations\")))\n",
    "    return ndcg.evaluate(rec)"
   ]
  },
  {
   "cell_type": "markdown",
   "metadata": {},
   "source": [
    "# Params testing"
   ]
  },
  {
   "cell_type": "code",
   "execution_count": null,
   "metadata": {},
   "outputs": [],
   "source": [
    "#Leave one out for calculating hit rate\n",
    "import pyspark.sql.functions as F\n",
    "from pyspark.sql.window import Window\n",
    "from pyspark.sql.functions import row_number\n",
    "\n",
    "windowSpec  = Window.partitionBy(\"UserID\").orderBy(F.col(\"Rating\").desc())\n",
    "tmp = df.withColumn(\"row_number\", row_number().over(windowSpec))      \n",
    "left_out_dataframe = tmp.filter(F.col(\"row_number\") != 1)\n",
    "keep_one_dataframe = tmp.filter(F.col(\"row_number\") == 1)\n",
    "left_out_count = left_out_dataframe.persist().count() #Force persist due to size\n",
    "keep_out_count = keep_one_dataframe.persist().count() #Force persist\n",
    "print(\"Left out {}, training to evaluate hit rate on {}.\".format(keep_out_count, left_out_count))"
   ]
  },
  {
   "cell_type": "code",
   "execution_count": null,
   "metadata": {},
   "outputs": [],
   "source": [
    "user_df = df.select(\"UserID\").distinct()\n",
    "movie_df = df.select(\"MovieID\").distinct()\n",
    "\n",
    "user_df.cache().count() #Force cache\n",
    "movie_df.cache().count() #Force cache\n",
    "full_matrix = user_df.crossJoin(movie_df)\n",
    "full_matrix.persist().count() #Force persist due to size\n",
    "\n",
    "#Count\n",
    "n_users = user_df.count()\n",
    "n_items = movie_df.count()\n",
    "for rank in rankRange:\n",
    "    for iter in iterRange:\n",
    "        for regParam in regParamRange:\n",
    "            als = ALS(\n",
    "                rank=rank,\n",
    "                maxIter=iter,\n",
    "                regParam=regParam,\n",
    "                \n",
    "                userCol=\"UserID\",\n",
    "                itemCol=\"MovieID\",\n",
    "                ratingCol=\"Rating\",\n",
    "                implicitPrefs=False,\n",
    "                coldStartStrategy='drop',\n",
    "                nonnegative=False,\n",
    "            )\n",
    "            hit_rate = (evaluate_hit_rate(als, left_out_dataframe, keep_one_dataframe, \\\n",
    "                                     full_matrix, n_users))\n",
    "            \n",
    "            # NDCG and RMSE\n",
    "            \n",
    "            (train, test) = df.randomSplit([0.8, 0.2])  \n",
    "            model = als.fit(train)\n",
    "            ndcg = (evaluate_ndcg_at_k(model, df, n_items))\n",
    "            rmse = (evaluate_rmse(model, test))\n",
    "            \n",
    "            print(\"Evaluating, rank: {}, iter: {}, regParam: {}\".format(rank, iter, regParam))\n",
    "            print(\"NDCG: {}, RMSE: {}, Hit: {}\".format(ndcg, rmse, hit_rate))"
   ]
  }
 ],
 "metadata": {
  "kernelspec": {
   "display_name": "Python 3.8.10 64-bit",
   "language": "python",
   "name": "python3"
  },
  "language_info": {
   "codemirror_mode": {
    "name": "ipython",
    "version": 3
   },
   "file_extension": ".py",
   "mimetype": "text/x-python",
   "name": "python",
   "nbconvert_exporter": "python",
   "pygments_lexer": "ipython3",
   "version": "3.8.10"
  },
  "vscode": {
   "interpreter": {
    "hash": "916dbcbb3f70747c44a77c7bcd40155683ae19c65e1c03b4aa3499c5328201f1"
   }
  }
 },
 "nbformat": 4,
 "nbformat_minor": 2
}
