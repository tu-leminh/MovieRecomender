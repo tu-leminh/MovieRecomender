{
 "cells": [
  {
   "cell_type": "code",
   "execution_count": 1,
   "metadata": {},
   "outputs": [],
   "source": [
    "from pyspark.context import SparkContext\n",
    "from pyspark.sql import SparkSession\n",
    "from pyspark.sql.functions import udf,col,collect_list\n",
    "from pyspark.sql.types import StringType, ArrayType, DoubleType,IntegerType\n",
    "from pyspark.ml.evaluation import RegressionEvaluator\n",
    "from pyspark.ml.recommendation import ALS\n",
    "from pyspark.ml.tuning import ParamGridBuilder, CrossValidator\n",
    "from pyspark.ml.evaluation import RegressionEvaluator\n",
    "from pyspark.ml.tuning import CrossValidator, ParamGridBuilder\n",
    "from pyspark.ml.evaluation import RankingEvaluator\n",
    "from HR import HitRate\n",
    "\n",
    "from pyspark.sql.types import *\n",
    "from pyspark.sql import functions as F\n",
    "\n",
    "#For windows user only\n",
    "import os \n",
    "import sys\n",
    "os.environ['PYSPARK_PYTHON'] = sys.executable\n",
    "os.environ['PYSPARK_DRIVER_PYTHON'] = sys.executable"
   ]
  },
  {
   "cell_type": "markdown",
   "metadata": {},
   "source": [
    "# Create spark session"
   ]
  },
  {
   "cell_type": "code",
   "execution_count": 2,
   "metadata": {},
   "outputs": [
    {
     "name": "stderr",
     "output_type": "stream",
     "text": [
      "22/10/08 14:56:58 WARN Utils: Your hostname, lap15450-ThinkPad-X13-Gen-2i resolves to a loopback address: 127.0.1.1; using 192.168.0.193 instead (on interface wlp0s20f3)\n",
      "22/10/08 14:56:58 WARN Utils: Set SPARK_LOCAL_IP if you need to bind to another address\n",
      "WARNING: An illegal reflective access operation has occurred\n",
      "WARNING: Illegal reflective access by org.apache.spark.unsafe.Platform (file:/home/lap15450/.local/lib/python3.8/site-packages/pyspark/jars/spark-unsafe_2.12-3.0.1.jar) to constructor java.nio.DirectByteBuffer(long,int)\n",
      "WARNING: Please consider reporting this to the maintainers of org.apache.spark.unsafe.Platform\n",
      "WARNING: Use --illegal-access=warn to enable warnings of further illegal reflective access operations\n",
      "WARNING: All illegal access operations will be denied in a future release\n",
      "22/10/08 14:56:58 WARN NativeCodeLoader: Unable to load native-hadoop library for your platform... using builtin-java classes where applicable\n",
      "Using Spark's default log4j profile: org/apache/spark/log4j-defaults.properties\n",
      "Setting default log level to \"WARN\".\n",
      "To adjust logging level use sc.setLogLevel(newLevel). For SparkR, use setLogLevel(newLevel).\n"
     ]
    }
   ],
   "source": [
    "spark = SparkSession.builder.master(\"local[*]\") \\\n",
    "                    .config('spark.ui.showConsoleProgress', 'false')\\\n",
    "                    .appName('MovieRecomender') \\\n",
    "                    .getOrCreate()\n",
    "                    \n",
    "spark.sparkContext.setCheckpointDir('checkpoint/')"
   ]
  },
  {
   "cell_type": "code",
   "execution_count": 3,
   "metadata": {},
   "outputs": [],
   "source": [
    "schema =             StructType([\n",
    "                    StructField('UserID', LongType(), True),\n",
    "                     StructField('MovieID', LongType(), True),\n",
    "                     StructField('Rating', IntegerType(), True),\n",
    "                     StructField('Timestamp', LongType(), True),\n",
    "                     ])"
   ]
  },
  {
   "cell_type": "code",
   "execution_count": 4,
   "metadata": {},
   "outputs": [
    {
     "data": {
      "text/plain": [
       "1000209"
      ]
     },
     "execution_count": 4,
     "metadata": {},
     "output_type": "execute_result"
    }
   ],
   "source": [
    "df = spark.read.option(\"sep\", \"::\").schema(schema).csv(\"data/ml-1m/ratings.dat\")\n",
    "df = df.toDF(*[\"UserID\", \"MovieID\", \"Rating\", \"Timestamp\"])\n",
    "df.createOrReplaceTempView(\"dataset\");\n",
    "df = df.dropna()\n",
    "df.cache().count() #Force cache"
   ]
  },
  {
   "cell_type": "markdown",
   "metadata": {},
   "source": [
    "# Model config"
   ]
  },
  {
   "cell_type": "code",
   "execution_count": 6,
   "metadata": {},
   "outputs": [],
   "source": [
    "rankRange = [15, 20]\n",
    "iterRange = [10, 15]\n",
    "regParamRange = [0.05, 0.1]"
   ]
  },
  {
   "cell_type": "markdown",
   "metadata": {},
   "source": [
    "# Hit Rate"
   ]
  },
  {
   "cell_type": "code",
   "execution_count": 7,
   "metadata": {},
   "outputs": [],
   "source": [
    "def evaluate_hit_rate(als, left_out_df, keep_one_df, full_matrix, n_users):\n",
    "    hr_evaluator = HitRate(predictionCol='prediction', labelCol='Rating', userCol='UserID', itemCol = \"MovieID\")\n",
    "    value = hr_evaluator.eval(als, left_out_df, keep_one_df, full_matrix, n_users)\n",
    "    return value"
   ]
  },
  {
   "cell_type": "markdown",
   "metadata": {},
   "source": [
    "# RMSE"
   ]
  },
  {
   "cell_type": "code",
   "execution_count": 8,
   "metadata": {},
   "outputs": [],
   "source": [
    "def evaluate_rmse(model, test):\n",
    "    rmse = RegressionEvaluator(metricName=\"rmse\", labelCol=\"Rating\", predictionCol=\"prediction\")       \n",
    "    predictions=model.transform(test).na.drop()\n",
    "    return rmse.evaluate(predictions)"
   ]
  },
  {
   "cell_type": "markdown",
   "metadata": {},
   "source": [
    "# NCDG at K"
   ]
  },
  {
   "cell_type": "code",
   "execution_count": 9,
   "metadata": {},
   "outputs": [],
   "source": [
    "def getRank(a):\n",
    "    ret=[]\n",
    "    for i in a:\n",
    "        ret.append(float(i.MovieID))\n",
    "    return ret\n",
    "def toDouble(a):\n",
    "    return [float(i) for i in a]\n",
    "\n",
    "convertUDF = udf(lambda z: getRank(z),ArrayType(DoubleType()))\n",
    "toDoubleUDF = udf(lambda z: toDouble(z),ArrayType(DoubleType()))"
   ]
  },
  {
   "cell_type": "code",
   "execution_count": 10,
   "metadata": {},
   "outputs": [],
   "source": [
    "def evaluate_ndcg_at_k(model, df, n_items, k = 10):\n",
    "    ndcg = RankingEvaluator(labelCol=\"RealRank\", predictionCol=\"recommendations\",metricName=\"ndcgAtK\", k=k)\n",
    "    tempt=df.sort(col('Rating').desc()).groupBy(\"UserID\").agg(collect_list('MovieID').alias(\"RealRank\"))\n",
    "    tempt=tempt.withColumn(\"RealRank\",toDoubleUDF(col(\"RealRank\")))\n",
    "\n",
    "    rec=model.recommendForAllUsers(n_items).join(tempt,\"UserID\",\"inner\")\n",
    "    rec=rec.withColumn(\"recommendations\",convertUDF(col(\"recommendations\")))\n",
    "    return ndcg.evaluate(rec)"
   ]
  },
  {
   "cell_type": "markdown",
   "metadata": {},
   "source": [
    "# Params testing"
   ]
  },
  {
   "cell_type": "code",
   "execution_count": 11,
   "metadata": {},
   "outputs": [
    {
     "name": "stdout",
     "output_type": "stream",
     "text": [
      "Left out 6040, training to evaluate hit rate on 994169.\n"
     ]
    }
   ],
   "source": [
    "#Leave one out for calculating hit rate\n",
    "import pyspark.sql.functions as F\n",
    "from pyspark.sql.window import Window\n",
    "from pyspark.sql.functions import row_number\n",
    "\n",
    "windowSpec  = Window.partitionBy(\"UserID\").orderBy(F.col(\"Rating\").desc())\n",
    "tmp = df.withColumn(\"row_number\", row_number().over(windowSpec))      \n",
    "left_out_dataframe = tmp.filter(F.col(\"row_number\") != 1)\n",
    "keep_one_dataframe = tmp.filter(F.col(\"row_number\") == 1)\n",
    "left_out_count = left_out_dataframe.persist().count() #Force persist due to size\n",
    "keep_out_count = keep_one_dataframe.persist().count() #Force persist\n",
    "print(\"Left out {}, training to evaluate hit rate on {}.\".format(keep_out_count, left_out_count))"
   ]
  },
  {
   "cell_type": "code",
   "execution_count": 12,
   "metadata": {},
   "outputs": [
    {
     "name": "stderr",
     "output_type": "stream",
     "text": [
      "22/10/08 14:57:21 WARN BLAS: Failed to load implementation from: com.github.fommil.netlib.NativeSystemBLAS\n",
      "22/10/08 14:57:21 WARN BLAS: Failed to load implementation from: com.github.fommil.netlib.NativeRefBLAS\n",
      "22/10/08 14:57:21 WARN LAPACK: Failed to load implementation from: com.github.fommil.netlib.NativeSystemLAPACK\n",
      "22/10/08 14:57:21 WARN LAPACK: Failed to load implementation from: com.github.fommil.netlib.NativeRefLAPACK\n"
     ]
    },
    {
     "name": "stdout",
     "output_type": "stream",
     "text": [
      "Evaluating, rank: 15, iter: 10, regParam: 0.05\n",
      "NDCG: 0.1055040196139647, RMSE: 0.8603844835046167, Hit: 0.013079470198675497\n",
      "Evaluating, rank: 15, iter: 10, regParam: 0.1\n",
      "NDCG: 0.13300829955180124, RMSE: 0.8704314971448491, Hit: 0.015562913907284768\n",
      "Evaluating, rank: 15, iter: 15, regParam: 0.05\n",
      "NDCG: 0.1242452442105532, RMSE: 0.8591483659474212, Hit: 0.014403973509933774\n",
      "Evaluating, rank: 15, iter: 15, regParam: 0.1\n",
      "NDCG: 0.13943534281728534, RMSE: 0.8645012563503666, Hit: 0.017218543046357615\n",
      "Evaluating, rank: 20, iter: 10, regParam: 0.05\n",
      "NDCG: 0.14237618062389668, RMSE: 0.8634282235303143, Hit: 0.019867549668874173\n",
      "Evaluating, rank: 20, iter: 10, regParam: 0.1\n",
      "NDCG: 0.12828178958824524, RMSE: 0.8674850341093442, Hit: 0.016059602649006622\n",
      "Evaluating, rank: 20, iter: 15, regParam: 0.05\n",
      "NDCG: 0.16406296732020675, RMSE: 0.8594721721304373, Hit: 0.019867549668874173\n",
      "Evaluating, rank: 20, iter: 15, regParam: 0.1\n",
      "NDCG: 0.15443455123896804, RMSE: 0.861736985872194, Hit: 0.01705298013245033\n"
     ]
    }
   ],
   "source": [
    "user_df = df.select(\"UserID\").distinct()\n",
    "movie_df = df.select(\"MovieID\").distinct()\n",
    "\n",
    "user_df.cache().count() #Force cache\n",
    "movie_df.cache().count() #Force cache\n",
    "full_matrix = user_df.crossJoin(movie_df)\n",
    "full_matrix.persist().count() #Force persist due to size\n",
    "\n",
    "#Count\n",
    "n_users = user_df.count()\n",
    "n_items = movie_df.count()\n",
    "for rank in rankRange:\n",
    "    for iter in iterRange:\n",
    "        for regParam in regParamRange:\n",
    "            als = ALS(\n",
    "                rank=rank,\n",
    "                maxIter=iter,\n",
    "                regParam=regParam,\n",
    "                \n",
    "                userCol=\"UserID\",\n",
    "                itemCol=\"MovieID\",\n",
    "                ratingCol=\"Rating\",\n",
    "                implicitPrefs=False,\n",
    "                coldStartStrategy='drop',\n",
    "                nonnegative=False,\n",
    "            )\n",
    "            hit_rate = (evaluate_hit_rate(als, left_out_dataframe, keep_one_dataframe, \\\n",
    "                                     full_matrix, n_users))\n",
    "            \n",
    "            # NDCG and RMSE\n",
    "            \n",
    "            (train, test) = df.randomSplit([0.8, 0.2])  \n",
    "            model = als.fit(train)\n",
    "            ndcg = (evaluate_ndcg_at_k(model, df, n_items))\n",
    "            rmse = (evaluate_rmse(model, test))\n",
    "            \n",
    "            print(\"Evaluating, rank: {}, iter: {}, regParam: {}\".format(rank, iter, regParam))\n",
    "            print(\"NDCG: {}, RMSE: {}, Hit: {}\".format(ndcg, rmse, hit_rate))"
   ]
  }
 ],
 "metadata": {
  "kernelspec": {
   "display_name": "Python 3.8.10 64-bit",
   "language": "python",
   "name": "python3"
  },
  "language_info": {
   "codemirror_mode": {
    "name": "ipython",
    "version": 3
   },
   "file_extension": ".py",
   "mimetype": "text/x-python",
   "name": "python",
   "nbconvert_exporter": "python",
   "pygments_lexer": "ipython3",
   "version": "3.8.10"
  },
  "vscode": {
   "interpreter": {
    "hash": "916dbcbb3f70747c44a77c7bcd40155683ae19c65e1c03b4aa3499c5328201f1"
   }
  }
 },
 "nbformat": 4,
 "nbformat_minor": 2
}
